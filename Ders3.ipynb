{
 "cells": [
  {
   "cell_type": "code",
   "execution_count": 56,
   "id": "54ee1efd",
   "metadata": {},
   "outputs": [
    {
     "name": "stdout",
     "output_type": "stream",
     "text": [
      "minimum aralık8\n",
      "maksimum aralık92\n",
      "dizi uzunluğu3\n",
      "aranan değer22\n",
      "---- aranan deger bulunamadi ! ----\n",
      "---- aranan deger bulunamadi ! ----\n",
      "---- aranan deger bulunamadi ! ----\n",
      "aranan eleman 0 adet bulunmakta rastgele liste [12, 64, 86]\n"
     ]
    }
   ],
   "source": [
    "import random as rnd\n",
    "\n",
    "def findValue(minVal,maxVal,listLen,searchValue):\n",
    "    myList = []\n",
    "    searchList = []\n",
    "    if searchValue >= minVal and searchValue <= maxVal:\n",
    "        for x in range(0,listLen):\n",
    "            myList.append(rnd.randrange(minVal,maxVal))\n",
    "            if myList[x] == searchValue:\n",
    "                searchList.append(x)\n",
    "                print(\"**** aranan deger bulundu ! ****\")\n",
    "            else:\n",
    "                print(\"---- aranan deger bulunamadi ! ----\")\n",
    "    else:\n",
    "        print(\"lütfen minimum ve maksimum aralığında aranan değer giriniz.\")\n",
    "\n",
    "    result = \"aranan eleman {} adet bulunmakta rastgele liste {}\"\n",
    "    print(result.format(len(searchList),myList))\n",
    "\n",
    "minVal = int(input(\"minimum aralık\"))\n",
    "maxVal = int(input(\"maksimum aralık\"))\n",
    "listLen = int(input(\"dizi uzunluğu\"))\n",
    "searchValue = int(input(\"aranan değer\"))\n",
    "findValue(minVal,maxVal,listLen,searchValue)"
   ]
  },
  {
   "cell_type": "code",
   "execution_count": 28,
   "id": "0e4d65c2",
   "metadata": {},
   "outputs": [
    {
     "name": "stdout",
     "output_type": "stream",
     "text": [
      "<class 'tuple'>\n",
      "3\n",
      "5 - 6 - kaan\n"
     ]
    }
   ],
   "source": [
    "def fonk6(a,b,*c): # *c tuple syntax\n",
    "    print(type(c))\n",
    "    print(c[0])\n",
    "\n",
    "fonk6(1,2,3,4,5)\n",
    "\n",
    "def fonk8():\n",
    "    return[5,6,\"kaan\"] # sırayla dönen her bir değer sırayla değişkenlere atanır.\n",
    "\n",
    "x,y,z=fonk8()\n",
    "print(x,\"-\",y,\"-\",z)"
   ]
  },
  {
   "cell_type": "code",
   "execution_count": 30,
   "id": "182863c3",
   "metadata": {},
   "outputs": [
    {
     "name": "stdout",
     "output_type": "stream",
     "text": [
      "27\n",
      "15\n"
     ]
    }
   ],
   "source": [
    "# lambda expression\n",
    "fonk9= lambda x:x*3\n",
    "fonk10=lambda x,y:x*y\n",
    "\n",
    "xx=fonk9(9)\n",
    "print(xx)\n",
    "yy=fonk10(3,5)\n",
    "print(yy)"
   ]
  },
  {
   "cell_type": "code",
   "execution_count": 52,
   "id": "9dfc42d5",
   "metadata": {},
   "outputs": [
    {
     "name": "stdout",
     "output_type": "stream",
     "text": [
      "['appleorange', 'bananalemon', 'cherrypineapple']\n",
      "[1, 2, 3, 4, 5, 6, 7, 8, 9]\n",
      "[1, 4, 27, 256, 3125, 46656, 823543, 16777216, 387420489]\n"
     ]
    }
   ],
   "source": [
    "def myfunc(a, b):\n",
    "  return a + b\n",
    "\n",
    "x = map(myfunc, ('apple', 'banana', 'cherry'), ('orange', 'lemon', 'pineapple'))\n",
    "print(list(x))\n",
    "\n",
    "def myPow(num,powVal):\n",
    "    return num**powVal\n",
    "\n",
    "nums = [x for x in range(1,10)]\n",
    "print(nums)\n",
    "powwed = map(myPow,nums,[x for x in range(1,10)])\n",
    "print(list(powwed))"
   ]
  },
  {
   "cell_type": "code",
   "execution_count": 54,
   "id": "bbf337a3",
   "metadata": {},
   "outputs": [
    {
     "name": "stdout",
     "output_type": "stream",
     "text": [
      "5\n",
      "10\n",
      "7\n"
     ]
    }
   ],
   "source": [
    "x=10\n",
    "\n",
    "class Sinif4:\n",
    "    global x\n",
    "    x=100\n",
    "    y=7    \n",
    "    def __init__(self):\n",
    "        self.x=5\n",
    "        self.y=10\n",
    "\n",
    "n4=Sinif4()\n",
    "print(n4.x)\n",
    "print(n4.y)\n",
    "print(Sinif4.y)"
   ]
  },
  {
   "cell_type": "code",
   "execution_count": 55,
   "id": "656f2395",
   "metadata": {},
   "outputs": [
    {
     "name": "stdout",
     "output_type": "stream",
     "text": [
      "15\n",
      "10\n"
     ]
    }
   ],
   "source": [
    "xx=100\n",
    "\n",
    "class sinif7:\n",
    "    global xx\n",
    "    xx=10\n",
    "    def __init__(self):\n",
    "        self.xx=15\n",
    "\n",
    "\n",
    "n1=sinif7()\n",
    "print(n1.xx)\n",
    "print(xx)"
   ]
  }
 ],
 "metadata": {
  "kernelspec": {
   "display_name": "Python 3 (ipykernel)",
   "language": "python",
   "name": "python3"
  },
  "language_info": {
   "codemirror_mode": {
    "name": "ipython",
    "version": 3
   },
   "file_extension": ".py",
   "mimetype": "text/x-python",
   "name": "python",
   "nbconvert_exporter": "python",
   "pygments_lexer": "ipython3",
   "version": "3.9.13"
  }
 },
 "nbformat": 4,
 "nbformat_minor": 5
}
