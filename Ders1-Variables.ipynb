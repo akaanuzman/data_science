{
 "cells": [
  {
   "cell_type": "code",
   "execution_count": 83,
   "id": "0f5bfe1c",
   "metadata": {},
   "outputs": [
    {
     "data": {
      "text/plain": [
       "'m 20.'"
      ]
     },
     "execution_count": 83,
     "metadata": {},
     "output_type": "execute_result"
    }
   ],
   "source": [
    "data = \"I'm 20.\"\n",
    "data[2:] # 2. indeksten sonrasını al."
   ]
  },
  {
   "cell_type": "code",
   "execution_count": 84,
   "id": "98be3986",
   "metadata": {},
   "outputs": [
    {
     "data": {
      "text/plain": [
       "\"I'\""
      ]
     },
     "execution_count": 84,
     "metadata": {},
     "output_type": "execute_result"
    }
   ],
   "source": [
    "data[:2] # Sadece 2. indekse kadar al."
   ]
  },
  {
   "cell_type": "code",
   "execution_count": 88,
   "id": "aa896669",
   "metadata": {},
   "outputs": [
    {
     "data": {
      "text/plain": [
       "'20.'"
      ]
     },
     "execution_count": 88,
     "metadata": {},
     "output_type": "execute_result"
    }
   ],
   "source": [
    "data[-3:] # Metin sonundaki 3 indexi al."
   ]
  },
  {
   "cell_type": "code",
   "execution_count": 89,
   "id": "70d495e5",
   "metadata": {},
   "outputs": [
    {
     "data": {
      "text/plain": [
       "\"I'm 2\""
      ]
     },
     "execution_count": 89,
     "metadata": {},
     "output_type": "execute_result"
    }
   ],
   "source": [
    "data[:-2] # Metin sonundaki 2 indexi alma."
   ]
  },
  {
   "cell_type": "code",
   "execution_count": 90,
   "id": "67cf6d86",
   "metadata": {},
   "outputs": [
    {
     "data": {
      "text/plain": [
       "'20'"
      ]
     },
     "execution_count": 90,
     "metadata": {},
     "output_type": "execute_result"
    }
   ],
   "source": [
    "data[-3:-1] # Metin sonundaki 1.indexten 3. indexe kadar al."
   ]
  },
  {
   "cell_type": "code",
   "execution_count": 91,
   "id": "79de818e",
   "metadata": {},
   "outputs": [
    {
     "data": {
      "text/plain": [
       "'m '"
      ]
     },
     "execution_count": 91,
     "metadata": {},
     "output_type": "execute_result"
    }
   ],
   "source": [
    "data[2:4] # 2. indeksten sonra 4. indekse kadar al."
   ]
  },
  {
   "cell_type": "code",
   "execution_count": 92,
   "id": "83685b77",
   "metadata": {},
   "outputs": [
    {
     "data": {
      "text/plain": [
       "'I .'"
      ]
     },
     "execution_count": 92,
     "metadata": {},
     "output_type": "execute_result"
    }
   ],
   "source": [
    "data[::3] # 3. indexleri al atlamalı olarak."
   ]
  },
  {
   "cell_type": "code",
   "execution_count": 35,
   "id": "36170812",
   "metadata": {},
   "outputs": [
    {
     "name": "stdout",
     "output_type": "stream",
     "text": [
      "20.5\n"
     ]
    }
   ],
   "source": [
    "var1 = 1\n",
    "var2 = 19.5\n",
    "print(str(var1+var2))"
   ]
  },
  {
   "cell_type": "code",
   "execution_count": 37,
   "id": "14b34d33",
   "metadata": {},
   "outputs": [
    {
     "name": "stdout",
     "output_type": "stream",
     "text": [
      "<class 'float'>\n"
     ]
    }
   ],
   "source": [
    "z = -87.7e10\n",
    "print(type(z))"
   ]
  },
  {
   "cell_type": "code",
   "execution_count": 38,
   "id": "5a2a2dd0",
   "metadata": {},
   "outputs": [
    {
     "name": "stdout",
     "output_type": "stream",
     "text": [
      "True\n"
     ]
    }
   ],
   "source": [
    "txt = \"The best things in life are free!\"\n",
    "print(\"free\" in txt) # free kelimesi txt içinde bulunuyor mu ?"
   ]
  },
  {
   "cell_type": "code",
   "execution_count": 47,
   "id": "05954567",
   "metadata": {},
   "outputs": [
    {
     "name": "stdout",
     "output_type": "stream",
     "text": [
      "Henno, World!\n"
     ]
    }
   ],
   "source": [
    "a = \"Hello, World!\"\n",
    "print(a.replace(\"l\", \"n\",2)) # ilk 2 l karakterini n yap."
   ]
  },
  {
   "cell_type": "code",
   "execution_count": 51,
   "id": "7565d530",
   "metadata": {},
   "outputs": [
    {
     "data": {
      "text/plain": [
       "['Hello', ' World!']"
      ]
     },
     "execution_count": 51,
     "metadata": {},
     "output_type": "execute_result"
    }
   ],
   "source": [
    "a = \"Hello, World!\"\n",
    "a.split(\",\") # stringi , karakterine göre böl."
   ]
  },
  {
   "cell_type": "code",
   "execution_count": 54,
   "id": "7dbcad8a",
   "metadata": {},
   "outputs": [
    {
     "name": "stdout",
     "output_type": "stream",
     "text": [
      "False\n"
     ]
    }
   ],
   "source": [
    "a = \"Hello, World!\"\n",
    "x1=a.split(\",\")\n",
    "print(x1[0] in x1[1]) "
   ]
  },
  {
   "cell_type": "code",
   "execution_count": 56,
   "id": "61542c87",
   "metadata": {},
   "outputs": [
    {
     "name": "stdout",
     "output_type": "stream",
     "text": [
      "My name is John, and I am 36\n"
     ]
    }
   ],
   "source": [
    "age = 36\n",
    "txt = \"My name is John, and I am {}\"\n",
    "print(txt.format(age))"
   ]
  },
  {
   "cell_type": "code",
   "execution_count": 58,
   "id": "8ffd628f",
   "metadata": {},
   "outputs": [
    {
     "name": "stdout",
     "output_type": "stream",
     "text": [
      "I want 3 pieces of item 567 for 49.95 dollars.\n"
     ]
    }
   ],
   "source": [
    "quantity = 3\n",
    "itemno = 567\n",
    "price = 49.95\n",
    "myorder = \"I want {} pieces of item {} for {} dollars.\"\n",
    "print(myorder.format(quantity, itemno, price))"
   ]
  },
  {
   "cell_type": "code",
   "execution_count": 60,
   "id": "dd9b1ec1",
   "metadata": {},
   "outputs": [
    {
     "name": "stdout",
     "output_type": "stream",
     "text": [
      "I want to pay 49.95 dollars for 3 pieces of item 567.\n"
     ]
    }
   ],
   "source": [
    "quantity = 3\n",
    "itemno = 567\n",
    "price = 49.95\n",
    "myorder = \"I want to pay {2} dollars for {0} pieces of item {1}.\"\n",
    "print(myorder.format(quantity, itemno, price))"
   ]
  },
  {
   "cell_type": "code",
   "execution_count": 75,
   "id": "57ad4422",
   "metadata": {},
   "outputs": [
    {
     "name": "stdout",
     "output_type": "stream",
     "text": [
      "13\n"
     ]
    }
   ],
   "source": [
    "txt = \"Hello, welcome to my world.\"\n",
    "x = txt.index(\"e\",9,14) # \n",
    "print(x)"
   ]
  }
 ],
 "metadata": {
  "kernelspec": {
   "display_name": "Python 3 (ipykernel)",
   "language": "python",
   "name": "python3"
  },
  "language_info": {
   "codemirror_mode": {
    "name": "ipython",
    "version": 3
   },
   "file_extension": ".py",
   "mimetype": "text/x-python",
   "name": "python",
   "nbconvert_exporter": "python",
   "pygments_lexer": "ipython3",
   "version": "3.9.13"
  }
 },
 "nbformat": 4,
 "nbformat_minor": 5
}
