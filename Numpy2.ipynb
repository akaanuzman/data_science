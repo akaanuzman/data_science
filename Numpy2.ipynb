{
 "cells": [
  {
   "cell_type": "code",
   "execution_count": 47,
   "id": "e6668a14",
   "metadata": {},
   "outputs": [
    {
     "data": {
      "text/plain": [
       "2321"
      ]
     },
     "execution_count": 47,
     "metadata": {},
     "output_type": "execute_result"
    }
   ],
   "source": [
    "import numpy as np\n",
    "matrix = [[10,20,30],[421,124,2155],[1246,42135,2321],[123,42135,214],[124312,214,124324]]\n",
    "matrix[2][2]"
   ]
  },
  {
   "cell_type": "code",
   "execution_count": 48,
   "id": "4f5b7ab7",
   "metadata": {},
   "outputs": [
    {
     "data": {
      "text/plain": [
       "[[10, 20, 30], [421, 124, 2155]]"
      ]
     },
     "execution_count": 48,
     "metadata": {},
     "output_type": "execute_result"
    }
   ],
   "source": [
    "matrix[:2]"
   ]
  },
  {
   "cell_type": "code",
   "execution_count": 55,
   "id": "cafe247c",
   "metadata": {},
   "outputs": [
    {
     "data": {
      "text/plain": [
       "array([[ 421,  124, 2155]])"
      ]
     },
     "execution_count": 55,
     "metadata": {},
     "output_type": "execute_result"
    }
   ],
   "source": [
    "matrix[1:][:1]"
   ]
  },
  {
   "cell_type": "code",
   "execution_count": 57,
   "id": "794d2a8e",
   "metadata": {},
   "outputs": [
    {
     "data": {
      "text/plain": [
       "42135"
      ]
     },
     "execution_count": 57,
     "metadata": {},
     "output_type": "execute_result"
    }
   ],
   "source": [
    "matrix[3,1]"
   ]
  },
  {
   "cell_type": "code",
   "execution_count": 50,
   "id": "0aad1f9a",
   "metadata": {},
   "outputs": [
    {
     "data": {
      "text/plain": [
       "array([[    10,     20,     30],\n",
       "       [   421,    124,   2155],\n",
       "       [  1246,  42135,   2321],\n",
       "       [   123,  42135,    214],\n",
       "       [124312,    214, 124324]])"
      ]
     },
     "execution_count": 50,
     "metadata": {},
     "output_type": "execute_result"
    }
   ],
   "source": [
    "matrix = np.array(matrix)\n",
    "matrix"
   ]
  },
  {
   "cell_type": "code",
   "execution_count": 54,
   "id": "52c83401",
   "metadata": {},
   "outputs": [
    {
     "data": {
      "text/plain": [
       "array([[   124,   2155],\n",
       "       [ 42135,   2321],\n",
       "       [ 42135,    214],\n",
       "       [   214, 124324]])"
      ]
     },
     "execution_count": 54,
     "metadata": {},
     "output_type": "execute_result"
    }
   ],
   "source": [
    "matrix[1:,1:]"
   ]
  },
  {
   "cell_type": "code",
   "execution_count": 61,
   "id": "397f58c2",
   "metadata": {},
   "outputs": [
    {
     "data": {
      "text/plain": [
       "array([[    10,     20,     30],\n",
       "       [  1246,  42135,   2321],\n",
       "       [124312,    214, 124324]])"
      ]
     },
     "execution_count": 61,
     "metadata": {},
     "output_type": "execute_result"
    }
   ],
   "source": [
    "matrix[[0,2,4]]"
   ]
  },
  {
   "cell_type": "code",
   "execution_count": 63,
   "id": "a6760512",
   "metadata": {},
   "outputs": [
    {
     "data": {
      "text/plain": [
       "15"
      ]
     },
     "execution_count": 63,
     "metadata": {},
     "output_type": "execute_result"
    }
   ],
   "source": [
    "matrix.size"
   ]
  },
  {
   "cell_type": "code",
   "execution_count": 66,
   "id": "63cdefac",
   "metadata": {},
   "outputs": [
    {
     "data": {
      "text/plain": [
       "'int64'"
      ]
     },
     "execution_count": 66,
     "metadata": {},
     "output_type": "execute_result"
    }
   ],
   "source": [
    "matrix.dtype.name"
   ]
  },
  {
   "cell_type": "code",
   "execution_count": 75,
   "id": "5e96a8eb",
   "metadata": {},
   "outputs": [
    {
     "data": {
      "text/plain": [
       "array([    10,     20,     30,    421,    124,   2155,   1246,  42135,\n",
       "         2321,    123,  42135,    214, 124312,    214, 124324])"
      ]
     },
     "execution_count": 75,
     "metadata": {},
     "output_type": "execute_result"
    }
   ],
   "source": [
    "newMatrix = matrix.reshape(matrix.size)\n",
    "newMatrix"
   ]
  },
  {
   "cell_type": "code",
   "execution_count": 76,
   "id": "c93d5c27",
   "metadata": {},
   "outputs": [
    {
     "data": {
      "text/plain": [
       "'int64'"
      ]
     },
     "execution_count": 76,
     "metadata": {},
     "output_type": "execute_result"
    }
   ],
   "source": [
    "newMatrix.dtype.name"
   ]
  },
  {
   "cell_type": "code",
   "execution_count": 83,
   "id": "cc5d043f",
   "metadata": {},
   "outputs": [
    {
     "name": "stdout",
     "output_type": "stream",
     "text": [
      "[ 2  4  6  8 10]\n",
      "[4 5 6 7 8]\n",
      "[ 0.84147098  0.90929743  0.14112001 -0.7568025  -0.95892427]\n"
     ]
    }
   ],
   "source": [
    "a = [1,2,3,4,5]\n",
    "b = [6,7,8,9,10]\n",
    "aa = np.array(a)\n",
    "print(aa*2)\n",
    "bb = np.array(b)\n",
    "print(bb-2)\n",
    "print(np.sin(aa))"
   ]
  },
  {
   "cell_type": "code",
   "execution_count": 86,
   "id": "59602ac6",
   "metadata": {},
   "outputs": [
    {
     "name": "stdout",
     "output_type": "stream",
     "text": [
      "[[2 4 6 8]\n",
      " [2 4 6 8]]\n",
      "[[1 1]\n",
      " [2 2]\n",
      " [3 3]\n",
      " [4 4]]\n",
      "[[30 30]\n",
      " [30 30]]\n",
      "[[1.06864746e+13 1.06864746e+13]\n",
      " [1.06864746e+13 1.06864746e+13]]\n"
     ]
    }
   ],
   "source": [
    "x=np.array([[1,2,3,4],\n",
    "            [1,2,3,4]])\n",
    "\n",
    "y=np.array([[1,2,3,4],\n",
    "            [1,2,3,4]])\n",
    "\n",
    "print(x+y)\n",
    "print(y.T)\n",
    "xy=x.dot(y.T) # Returns the multiply of two matrices \n",
    "print(xy)\n",
    "print(np.exp(xy))"
   ]
  },
  {
   "cell_type": "code",
   "execution_count": 101,
   "id": "2ac28a85",
   "metadata": {},
   "outputs": [
    {
     "name": "stdout",
     "output_type": "stream",
     "text": [
      "[[0.55742272 0.83479936 0.80070326 0.78039072 0.16209675]\n",
      " [0.69711451 0.46686352 0.7755177  0.05066851 0.41912544]\n",
      " [0.33078231 0.9866015  0.75836556 0.28419386 0.18179753]\n",
      " [0.28176103 0.88813392 0.67989556 0.17355704 0.99682966]]\n",
      "11.106620472417651\n"
     ]
    }
   ],
   "source": [
    "randommatris=np.random.random((4,5))\n",
    "print(randommatris)\n",
    "print(randommatris.sum())"
   ]
  },
  {
   "cell_type": "code",
   "execution_count": 107,
   "id": "62a74475",
   "metadata": {},
   "outputs": [
    {
     "name": "stdout",
     "output_type": "stream",
     "text": [
      "[1.86708057 3.1763983  3.01448208 1.28881014 1.75984938]\n",
      "[3.13541281 2.40928969 2.54174076 3.02017722]\n"
     ]
    }
   ],
   "source": [
    "print(randommatris.sum(axis=0))#columns sum\n",
    "print(randommatris.sum(axis=1))#columns sum"
   ]
  },
  {
   "cell_type": "code",
   "execution_count": 113,
   "id": "74ba5c8c",
   "metadata": {},
   "outputs": [
    {
     "name": "stdout",
     "output_type": "stream",
     "text": [
      "[[1 2 3]\n",
      " [4 5 9]]\n",
      "[ 5  7 12]\n",
      "[ 6 18]\n"
     ]
    }
   ],
   "source": [
    "a = np.array([[1, 2, 3], [4, 5, 9]])\n",
    "print(a)\n",
    "print(a.sum(axis=0))\n",
    "print(a.sum(axis=1))"
   ]
  },
  {
   "cell_type": "code",
   "execution_count": 117,
   "id": "90f4a5fb",
   "metadata": {},
   "outputs": [
    {
     "name": "stdout",
     "output_type": "stream",
     "text": [
      "[[1.         1.41421356 1.73205081]\n",
      " [2.         2.23606798 3.        ]]\n",
      "[[ 1  4  9]\n",
      " [16 25 81]]\n",
      "[[2 4 6 8]\n",
      " [2 4 6 8]]\n"
     ]
    }
   ],
   "source": [
    "print(np.sqrt(a))\n",
    "print(np.square(a))\n",
    "print(np.add(x,y))"
   ]
  },
  {
   "cell_type": "code",
   "execution_count": 136,
   "id": "8a33cb64",
   "metadata": {},
   "outputs": [],
   "source": [
    "nplist = np.array([1,2,3,4,5,6,7,8])\n",
    "nplist2 = np.array([11,22,33,44,55,66,77,88])"
   ]
  },
  {
   "cell_type": "code",
   "execution_count": 137,
   "id": "b20be468",
   "metadata": {},
   "outputs": [
    {
     "name": "stdout",
     "output_type": "stream",
     "text": [
      "[[ 1  2  3  4  5  6  7  8]\n",
      " [11 22 33 44 55 66 77 88]]\n",
      "2\n",
      "[ 1  2  3  4  5  6  7  8 11 22 33 44 55 66 77 88]\n",
      "1\n"
     ]
    }
   ],
   "source": [
    "vertical=np.vstack((nplist,nplist2))\n",
    "print(vertical)\n",
    "print(vertical.ndim)\n",
    "horizontal = np.hstack((nplist,nplist2))\n",
    "print(horizontal)\n",
    "print(horizontal.ndim)"
   ]
  },
  {
   "cell_type": "code",
   "execution_count": 138,
   "id": "4b14e98d",
   "metadata": {},
   "outputs": [
    {
     "name": "stdout",
     "output_type": "stream",
     "text": [
      "[[ 1  2  3  4  5  6  7  8]\n",
      " [11 22 33 44 55 66 77 88]]\n",
      "2\n",
      "[[ 1 11]\n",
      " [ 2 22]\n",
      " [ 3 33]\n",
      " [ 4 44]\n",
      " [ 5 55]\n",
      " [ 6 66]\n",
      " [ 7 77]\n",
      " [ 8 88]]\n",
      "2\n"
     ]
    }
   ],
   "source": [
    "vertical1 = np.row_stack((nplist,nplist2))\n",
    "print(vertical1)\n",
    "print(vertical1.ndim)\n",
    "horizontal1 = np.column_stack((nplist,nplist2))\n",
    "print(horizontal1)\n",
    "print(horizontal1.ndim)"
   ]
  },
  {
   "cell_type": "code",
   "execution_count": 140,
   "id": "27876d81",
   "metadata": {},
   "outputs": [
    {
     "name": "stdout",
     "output_type": "stream",
     "text": [
      "[[ 1 11]\n",
      " [ 2 22]\n",
      " [ 3 33]\n",
      " [ 4 44]\n",
      " [ 5 55]\n",
      " [ 6 66]\n",
      " [ 7 77]\n",
      " [ 8 88]]\n",
      "[[ 1  2  3  4  5  6  7  8]\n",
      " [11 22 33 44 55 66 77 88]]\n"
     ]
    }
   ],
   "source": [
    "v2=np.stack((nplist,nplist2),axis=-1)\n",
    "print(v2)\n",
    "h2=np.stack((nplist,nplist2),axis=0)\n",
    "print(h2)"
   ]
  },
  {
   "cell_type": "code",
   "execution_count": 143,
   "id": "0b05eb6e",
   "metadata": {},
   "outputs": [
    {
     "data": {
      "text/plain": [
       "array([ 1,  2,  3,  4,  5,  6,  7,  8, 11, 22, 33, 44, 55, 66, 77, 88])"
      ]
     },
     "execution_count": 143,
     "metadata": {},
     "output_type": "execute_result"
    }
   ],
   "source": [
    "horizontal.resize(4,4)\n",
    "edit=horizontal.ravel()\n",
    "edit"
   ]
  },
  {
   "cell_type": "code",
   "execution_count": 146,
   "id": "8c1d948b",
   "metadata": {},
   "outputs": [
    {
     "name": "stdout",
     "output_type": "stream",
     "text": [
      "[[ 1  2  3  4]\n",
      " [ 5  6  7  8]\n",
      " [11 22 33 44]\n",
      " [55 66 77 88]]\n",
      "[[ 1  2  3  4]\n",
      " [ 5  6  7  8]\n",
      " [11 22 33 44]\n",
      " [55 66 77 88]]\n"
     ]
    }
   ],
   "source": [
    "print(horizontal[:,:])\n",
    "print(horizontal[:])"
   ]
  },
  {
   "cell_type": "code",
   "execution_count": 147,
   "id": "686271f7",
   "metadata": {},
   "outputs": [
    {
     "name": "stdout",
     "output_type": "stream",
     "text": [
      "[[22 33 44 55 66 77 88]]\n"
     ]
    }
   ],
   "source": [
    "print(vertical[1:3,1:])"
   ]
  }
 ],
 "metadata": {
  "kernelspec": {
   "display_name": "Python 3 (ipykernel)",
   "language": "python",
   "name": "python3"
  },
  "language_info": {
   "codemirror_mode": {
    "name": "ipython",
    "version": 3
   },
   "file_extension": ".py",
   "mimetype": "text/x-python",
   "name": "python",
   "nbconvert_exporter": "python",
   "pygments_lexer": "ipython3",
   "version": "3.9.13"
  }
 },
 "nbformat": 4,
 "nbformat_minor": 5
}
