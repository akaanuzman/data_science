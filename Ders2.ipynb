{
 "cells": [
  {
   "cell_type": "code",
   "execution_count": 11,
   "id": "e981d337",
   "metadata": {},
   "outputs": [
    {
     "data": {
      "text/plain": [
       "'the worst programming language is python in the world'"
      ]
     },
     "execution_count": 11,
     "metadata": {},
     "output_type": "execute_result"
    }
   ],
   "source": [
    "expr=\"       the worst programming language is python in the world            \"\n",
    "expr.strip()"
   ]
  },
  {
   "cell_type": "code",
   "execution_count": 12,
   "id": "18850625",
   "metadata": {},
   "outputs": [
    {
     "name": "stdout",
     "output_type": "stream",
     "text": [
      "6\n"
     ]
    }
   ],
   "source": [
    "print(20//3) # Bölüm'ü verir."
   ]
  },
  {
   "cell_type": "code",
   "execution_count": 17,
   "id": "bba8f654",
   "metadata": {},
   "outputs": [
    {
     "name": "stdout",
     "output_type": "stream",
     "text": [
      "False\n",
      "a\n"
     ]
    }
   ],
   "source": [
    "x = [\"apple\", \"banana\"]\n",
    "y = [\"apple\", \"banana\"]\n",
    "z = x\n",
    "print(x is y) # Diziler ve sınıflar referans tipte olduğu için x y değildir.\n",
    "x[0]=\"a\"\n",
    "print(z[0])"
   ]
  },
  {
   "cell_type": "code",
   "execution_count": 23,
   "id": "542de181",
   "metadata": {},
   "outputs": [
    {
     "name": "stdout",
     "output_type": "stream",
     "text": [
      "-22\n",
      "50\n"
     ]
    }
   ],
   "source": [
    "n1=21\n",
    "n2=~n1 # Pozitifse tersinin bir fazlasını verir\n",
    "print(n2)\n",
    "num1=-51\n",
    "num2=~num1 # Negatifse tersinin bir eksiğini verir\n",
    "print(num2)"
   ]
  },
  {
   "cell_type": "code",
   "execution_count": 27,
   "id": "7f57b1ce",
   "metadata": {},
   "outputs": [
    {
     "name": "stdout",
     "output_type": "stream",
     "text": [
      "1\n",
      "20\n"
     ]
    }
   ],
   "source": [
    "n1=5\n",
    "n1=n1>>2 # 5'in binary değerini iki bit sağa kaydırır.\n",
    "print(n1)\n",
    "num1=5\n",
    "num1=num1<<2 # 5'in binary değerini iki bit sola kaydırır.\n",
    "print(num1)"
   ]
  },
  {
   "cell_type": "code",
   "execution_count": 32,
   "id": "74d75b62",
   "metadata": {},
   "outputs": [
    {
     "name": "stdout",
     "output_type": "stream",
     "text": [
      "555\n"
     ]
    }
   ],
   "source": [
    "list1 = [\"adasdf\",555,\"asfasf\"]\n",
    "list2=[\"ada\",list1]\n",
    "print(list2[1][1]) # list2'nin 1. indexinin 1.indexi "
   ]
  },
  {
   "cell_type": "code",
   "execution_count": 34,
   "id": "64ed73eb",
   "metadata": {},
   "outputs": [
    {
     "name": "stdout",
     "output_type": "stream",
     "text": [
      "['orange', 'kiwi', 'melon']\n",
      "['apple', 'blackcurrant', 'watermelon', 'cherry']\n"
     ]
    }
   ],
   "source": [
    "thislist = [\"apple\", \"banana\", \"cherry\", \"orange\", \"kiwi\", \"melon\", \"mango\"]\n",
    "print(thislist[-4:-1])\n",
    "thislist = [\"apple\", \"banana\", \"cherry\"]\n",
    "thislist[1:2] = [\"blackcurrant\", \"watermelon\"]\n",
    "print(thislist)"
   ]
  },
  {
   "cell_type": "code",
   "execution_count": 37,
   "id": "4b587de3",
   "metadata": {},
   "outputs": [
    {
     "name": "stdout",
     "output_type": "stream",
     "text": [
      "apple\n",
      "mylist\n",
      "banana\n",
      "45\n",
      "22\n"
     ]
    }
   ],
   "source": [
    "mylist = [\"mylist\", \"banana\", 45]\n",
    "\n",
    "thislist = [\"apple\", mylist, 22] # Liste içinde liste ekrana bastırma.\n",
    "for x in thislist:\n",
    "    if type(x)==list:\n",
    "        for y in x:\n",
    "            print(y)\n",
    "    else:\n",
    "        print(x)"
   ]
  },
  {
   "cell_type": "code",
   "execution_count": 40,
   "id": "534d2cb1",
   "metadata": {},
   "outputs": [
    {
     "name": "stdout",
     "output_type": "stream",
     "text": [
      "apple\n",
      "banana\n",
      "cherry\n"
     ]
    }
   ],
   "source": [
    "thislist = [\"apple\", \"banana\", \"cherry\"]\n",
    "for i in range(len(thislist)):\n",
    "  print(thislist[i])"
   ]
  },
  {
   "cell_type": "code",
   "execution_count": 47,
   "id": "acc18f27",
   "metadata": {},
   "outputs": [
    {
     "name": "stdout",
     "output_type": "stream",
     "text": [
      "apple ****\n",
      "banana ****\n",
      "cherry ****\n",
      "['apple', 'banana', 'mango']\n"
     ]
    }
   ],
   "source": [
    "\n",
    "thislist = [\"apple\", \"banana\", \"cherry\"]\n",
    "[print(x,\"****\") for x in thislist]\n",
    "\n",
    "fruits = [\"apple\", \"banana\", \"cherry\", \"kiwi\", \"mango\"]\n",
    "\n",
    "newlist = [x for x in fruits if \"a\" in x]\n",
    "print(newlist)"
   ]
  },
  {
   "cell_type": "code",
   "execution_count": 52,
   "id": "1e6691ed",
   "metadata": {},
   "outputs": [
    {
     "name": "stdout",
     "output_type": "stream",
     "text": [
      "['Apple', 'Banana', 'Cherry', 'Kiwi', 'Mango']\n",
      "['apple', 'orange', 'cherry', 'kiwi', 'mango']\n"
     ]
    }
   ],
   "source": [
    "fruits = [\" APPLE \", \" banana \", \"CheRrY\", \"kiwi\", \"mango\"]\n",
    "newlist = [(x.strip()).capitalize() for x in fruits] # Capitalize metodu metnin ilk harfini büyük diğer harflerini kücük yapar.\n",
    "print(newlist)\n",
    "\n",
    "fruits = [\"apple\", \"banana\", \"cherry\", \"kiwi\", \"mango\"]\n",
    "newlist = [x if x != \"banana\" else \"orange\" for x in fruits]\n",
    "print(newlist)"
   ]
  },
  {
   "cell_type": "code",
   "execution_count": 59,
   "id": "e5561464",
   "metadata": {},
   "outputs": [
    {
     "name": "stdout",
     "output_type": "stream",
     "text": [
      "[100, 82, 65, 50, 23]\n",
      "[23, 50, 65, 82, 100]\n"
     ]
    }
   ],
   "source": [
    "thislist = [100, 50, 65, 82, 23]\n",
    "thislist.sort(reverse = True) # Büyükten kücüğe sirala.\n",
    "print(thislist)\n",
    "\n",
    "thislist = [100, 50, 65, 82, 23]\n",
    "thislist.sort() # Kücükten büyüge sirala.\n",
    "print(thislist)"
   ]
  },
  {
   "cell_type": "code",
   "execution_count": 82,
   "id": "c9244661",
   "metadata": {},
   "outputs": [
    {
     "name": "stdout",
     "output_type": "stream",
     "text": [
      "[1, 2, 3, 4, 5, 6, 7, 8, 9]\n",
      "[1, 3, 5, 7, 9]\n"
     ]
    }
   ],
   "source": [
    "numlist = [x for x in range(1,10)]\n",
    "newlist = []\n",
    "for x in numlist:\n",
    "    if x%2 != 0:\n",
    "        newlist.append(x)\n",
    "print(numlist)\n",
    "print(newlist)"
   ]
  },
  {
   "cell_type": "code",
   "execution_count": 71,
   "id": "1a457fed",
   "metadata": {},
   "outputs": [
    {
     "name": "stdout",
     "output_type": "stream",
     "text": [
      "[50, 65, 23, 82, 100]\n"
     ]
    }
   ],
   "source": [
    "def myfunc(n):\n",
    "  return abs(n - 50)\n",
    "\n",
    "thislist = [100, 50, 65, 82, 23]\n",
    "\n",
    "thislist.sort(key = myfunc)\n",
    "\n",
    "print(thislist)"
   ]
  },
  {
   "cell_type": "code",
   "execution_count": 86,
   "id": "ca1aece1",
   "metadata": {},
   "outputs": [
    {
     "name": "stdout",
     "output_type": "stream",
     "text": [
      "[23, 'banana', 'cherry']\n"
     ]
    }
   ],
   "source": [
    "thislist = [\"apple\", \"banana\", \"cherry\"]\n",
    "mylist = thislist\n",
    "thislist[0]=23\n",
    "print(mylist)"
   ]
  },
  {
   "cell_type": "code",
   "execution_count": 90,
   "id": "b21b2fa1",
   "metadata": {},
   "outputs": [
    {
     "name": "stdout",
     "output_type": "stream",
     "text": [
      "apple\n",
      "<class 'tuple'>\n",
      "<class 'str'>\n"
     ]
    }
   ],
   "source": [
    "thistuple = (\"apple\", \"banana\", \"cherry\")\n",
    "print(thistuple[0])\n",
    "thistuple = (\"apple\",)\n",
    "print(type(thistuple))\n",
    "thistuple = (\"apple\")\n",
    "print(type(thistuple))"
   ]
  },
  {
   "cell_type": "code",
   "execution_count": 93,
   "id": "541aa11e",
   "metadata": {},
   "outputs": [
    {
     "name": "stdout",
     "output_type": "stream",
     "text": [
      "apple\n",
      "banana\n",
      "cherry\n"
     ]
    }
   ],
   "source": [
    "fruits = (\"apple\", \"banana\", \"cherry\")\n",
    "\n",
    "(green, yellow, red) = fruits\n",
    "\n",
    "print(green)\n",
    "print(yellow)\n",
    "print(red)"
   ]
  },
  {
   "cell_type": "code",
   "execution_count": 95,
   "id": "3e8bb4fd",
   "metadata": {},
   "outputs": [
    {
     "name": "stdout",
     "output_type": "stream",
     "text": [
      "cherry\n",
      "banana\n",
      "apple\n"
     ]
    }
   ],
   "source": [
    "thisset = {\"apple\", \"banana\", \"cherry\"}\n",
    "for x in thisset:\n",
    "    print(x)"
   ]
  },
  {
   "cell_type": "code",
   "execution_count": 103,
   "id": "a9ecd1a0",
   "metadata": {},
   "outputs": [
    {
     "name": "stdout",
     "output_type": "stream",
     "text": [
      "istanbul ---\n",
      "Düzce ---\n",
      "Ankara ---\n",
      "{'istanbul', 'Düzce', 'Ankara'}\n",
      "dict_keys([0, 'model', 'şehirler'])\n",
      "dict_values(['Ford', 'Mustang', {'istanbul', 'Düzce', 'Ankara'}])\n",
      "dict_items([(0, 'Ford'), ('model', 'Mustang'), ('şehirler', {'istanbul', 'Düzce', 'Ankara'}), ('year', 2020)]) *****\n"
     ]
    }
   ],
   "source": [
    "sehirler={\"Düzce\",\"Ankara\",\"istanbul\"}\n",
    "thisdict = {\n",
    "  0: \"Ford\",\n",
    "  \"model\": \"Mustang\",\n",
    "  \"şehirler\": sehirler\n",
    "}\n",
    "for x in thisdict[\"şehirler\"]:\n",
    "    print(x,\"---\")\n",
    "\n",
    "print(thisdict[\"şehirler\"])\n",
    "\n",
    "x = thisdict.keys()\n",
    "print(x)\n",
    "xval = thisdict.values()\n",
    "print(xval)\n",
    "thisdict[\"year\"] = 2020\n",
    "y=x = thisdict.items()\n",
    "print(y,\"*****\")"
   ]
  },
  {
   "cell_type": "code",
   "execution_count": 106,
   "id": "3b8abce6",
   "metadata": {},
   "outputs": [
    {
     "name": "stdout",
     "output_type": "stream",
     "text": [
      "brand Ford\n",
      "model Mustang\n",
      "year 1964\n"
     ]
    }
   ],
   "source": [
    "thisdict =\t{\n",
    "  \"brand\": \"Ford\",\n",
    "  \"model\": \"Mustang\",\n",
    "  \"year\": 1964\n",
    "}\n",
    "for x, y in thisdict.items():\n",
    "  print(x, y)"
   ]
  },
  {
   "cell_type": "code",
   "execution_count": 109,
   "id": "cd10cebb",
   "metadata": {},
   "outputs": [
    {
     "name": "stdout",
     "output_type": "stream",
     "text": [
      "{'brand': 'Ford', 'model': 'Mustang', 'year': 1964}\n",
      "{'brand': 'Ford', 'model': 'Mustang', 'year': 1964}\n"
     ]
    }
   ],
   "source": [
    "thisdict = {\n",
    "  \"brand\": \"Ford\",\n",
    "  \"model\": \"Mustang\",\n",
    "  \"year\": 1964\n",
    "}\n",
    "mydict = dict(thisdict)\n",
    "print(mydict)\n",
    "\n",
    "thisdict = {\n",
    "  \"brand\": \"Ford\",\n",
    "  \"model\": \"Mustang\",\n",
    "  \"year\": 1964\n",
    "}\n",
    "mydict = thisdict.copy()\n",
    "print(mydict)\n"
   ]
  },
  {
   "cell_type": "code",
   "execution_count": 110,
   "id": "87dcbf5e",
   "metadata": {},
   "outputs": [
    {
     "name": "stdout",
     "output_type": "stream",
     "text": [
      "child1\n",
      "name Emil\n",
      "year 2004\n",
      "child2\n",
      "name Tobias\n",
      "year 2007\n",
      "child3\n",
      "name Linus\n",
      "year 2011\n"
     ]
    }
   ],
   "source": [
    "myfamily = {\n",
    "  \"child1\" : {\n",
    "    \"name\" : \"Emil\",\n",
    "    \"year\" : 2004\n",
    "  },\n",
    "  \"child2\" : {\n",
    "    \"name\" : \"Tobias\",\n",
    "    \"year\" : 2007\n",
    "  },\n",
    "  \"child3\" : {\n",
    "    \"name\" : \"Linus\",\n",
    "    \"year\" : 2011\n",
    "  }\n",
    "}\n",
    "\n",
    "for x,y in myfamily.items():\n",
    "    print(x)\n",
    "    for xx,yy in y.items():\n",
    "        print(xx,yy)"
   ]
  }
 ],
 "metadata": {
  "kernelspec": {
   "display_name": "Python 3 (ipykernel)",
   "language": "python",
   "name": "python3"
  },
  "language_info": {
   "codemirror_mode": {
    "name": "ipython",
    "version": 3
   },
   "file_extension": ".py",
   "mimetype": "text/x-python",
   "name": "python",
   "nbconvert_exporter": "python",
   "pygments_lexer": "ipython3",
   "version": "3.9.13"
  }
 },
 "nbformat": 4,
 "nbformat_minor": 5
}
