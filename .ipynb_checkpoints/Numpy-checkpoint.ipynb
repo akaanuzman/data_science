{
 "cells": [
  {
   "cell_type": "code",
   "execution_count": 7,
   "id": "96366ae9",
   "metadata": {},
   "outputs": [
    {
     "name": "stdout",
     "output_type": "stream",
     "text": [
      "[ 0  4  8 12]\n"
     ]
    }
   ],
   "source": [
    "import numpy as np\n",
    "list = np.arange(0,13,4)\n",
    "print(list)"
   ]
  },
  {
   "cell_type": "code",
   "execution_count": 25,
   "id": "7133e062",
   "metadata": {},
   "outputs": [
    {
     "name": "stdout",
     "output_type": "stream",
     "text": [
      "[[0, 1, 2], [0, 1, 2], [0, 1, 2]]\n"
     ]
    },
    {
     "data": {
      "text/plain": [
       "array([[0, 1, 2],\n",
       "       [0, 1, 2],\n",
       "       [0, 1, 2]])"
      ]
     },
     "execution_count": 25,
     "metadata": {},
     "output_type": "execute_result"
    }
   ],
   "source": [
    "generator = [x for x in range(0,3)] # we created list\n",
    "matrix = [generator for e in range(len(generator))] # we created matrix\n",
    "print(matrix)\n",
    "np.array(matrix) # converts list to matrix"
   ]
  },
  {
   "cell_type": "code",
   "execution_count": 37,
   "id": "b47f36d0",
   "metadata": {},
   "outputs": [
    {
     "name": "stdout",
     "output_type": "stream",
     "text": [
      "[0 1 2 3 4 5 6 7 8 9]\n",
      "[[0. 0. 0.]\n",
      " [0. 0. 0.]\n",
      " [0. 0. 0.]]\n",
      "[[1. 1. 1.]\n",
      " [1. 1. 1.]\n",
      " [1. 1. 1.]]\n"
     ]
    }
   ],
   "source": [
    "list = np.arange(0,10)\n",
    "print(list)\n",
    "list = np.zeros((3,3))\n",
    "print(list)\n",
    "list = np.ones((3,3))\n",
    "print(list)"
   ]
  },
  {
   "cell_type": "code",
   "execution_count": 46,
   "id": "bb050d49",
   "metadata": {},
   "outputs": [
    {
     "name": "stdout",
     "output_type": "stream",
     "text": [
      "[0.         0.08163265 0.16326531 0.24489796 0.32653061 0.40816327\n",
      " 0.48979592 0.57142857 0.65306122 0.73469388 0.81632653 0.89795918\n",
      " 0.97959184 1.06122449 1.14285714 1.2244898  1.30612245 1.3877551\n",
      " 1.46938776 1.55102041 1.63265306 1.71428571 1.79591837 1.87755102\n",
      " 1.95918367 2.04081633 2.12244898 2.20408163 2.28571429 2.36734694\n",
      " 2.44897959 2.53061224 2.6122449  2.69387755 2.7755102  2.85714286\n",
      " 2.93877551 3.02040816 3.10204082 3.18367347 3.26530612 3.34693878\n",
      " 3.42857143 3.51020408 3.59183673 3.67346939 3.75510204 3.83673469\n",
      " 3.91836735 4.        ]\n",
      "[ 0.          1.05263158  2.10526316  3.15789474  4.21052632  5.26315789\n",
      "  6.31578947  7.36842105  8.42105263  9.47368421 10.52631579 11.57894737\n",
      " 12.63157895 13.68421053 14.73684211 15.78947368 16.84210526 17.89473684\n",
      " 18.94736842 20.        ]\n"
     ]
    }
   ],
   "source": [
    "list = np.linspace(0,4)\n",
    "print(list)\n",
    "list = np.linspace(0,20,20)\n",
    "print(list)"
   ]
  },
  {
   "cell_type": "code",
   "execution_count": 57,
   "id": "5a9384e6",
   "metadata": {},
   "outputs": [
    {
     "name": "stdout",
     "output_type": "stream",
     "text": [
      "[[1. 0. 0.]\n",
      " [0. 1. 0.]\n",
      " [0. 0. 1.]]\n",
      "[-0.85830999  0.55622485  0.25615238 -0.4045852 ]\n",
      "[[ 0.08726613  0.59804121  0.10806539  0.3727777   0.32543091]\n",
      " [ 0.52917451  0.10200301 -1.72950501 -1.33300637 -0.82400892]\n",
      " [-1.93180499 -0.3772309   0.5826607  -0.77956793 -0.08607345]\n",
      " [-1.16838446 -1.00720837 -1.47163459 -0.37371289 -0.2360409 ]\n",
      " [ 2.63070021  0.4500921  -0.32110468  0.79988153  0.43670384]]\n"
     ]
    }
   ],
   "source": [
    "list = np.eye(3) # identity matrix\n",
    "print(list)\n",
    "list = np.random.randn(4)\n",
    "print(list)\n",
    "list = np.random.randn(5,5)\n",
    "print(list)"
   ]
  },
  {
   "cell_type": "code",
   "execution_count": 58,
   "id": "80603c86",
   "metadata": {},
   "outputs": [
    {
     "data": {
      "text/plain": [
       "1"
      ]
     },
     "execution_count": 58,
     "metadata": {},
     "output_type": "execute_result"
    }
   ],
   "source": [
    "np.random.randint(5)"
   ]
  },
  {
   "cell_type": "code",
   "execution_count": 70,
   "id": "68c4a05f",
   "metadata": {},
   "outputs": [
    {
     "name": "stdout",
     "output_type": "stream",
     "text": [
      "[12  5 13  9  0 13 15  2 10 12  7 17]\n"
     ]
    }
   ],
   "source": [
    "list = np.random.randint(0,20,12)\n",
    "print(list)"
   ]
  },
  {
   "cell_type": "code",
   "execution_count": 71,
   "id": "f993a638",
   "metadata": {},
   "outputs": [
    {
     "data": {
      "text/plain": [
       "array([[12,  5],\n",
       "       [13,  9],\n",
       "       [ 0, 13],\n",
       "       [15,  2],\n",
       "       [10, 12],\n",
       "       [ 7, 17]])"
      ]
     },
     "execution_count": 71,
     "metadata": {},
     "output_type": "execute_result"
    }
   ],
   "source": [
    "list.reshape(6,2) # we can created 6x2 (2x6,4x3,3x4 etc.) matrix."
   ]
  },
  {
   "cell_type": "code",
   "execution_count": 72,
   "id": "b745ea68",
   "metadata": {},
   "outputs": [
    {
     "data": {
      "text/plain": [
       "17"
      ]
     },
     "execution_count": 72,
     "metadata": {},
     "output_type": "execute_result"
    }
   ],
   "source": [
    "list.max()"
   ]
  },
  {
   "cell_type": "code",
   "execution_count": 73,
   "id": "b2e3b6eb",
   "metadata": {},
   "outputs": [
    {
     "data": {
      "text/plain": [
       "0"
      ]
     },
     "execution_count": 73,
     "metadata": {},
     "output_type": "execute_result"
    }
   ],
   "source": [
    "list.min()"
   ]
  },
  {
   "cell_type": "code",
   "execution_count": 74,
   "id": "6bd1661f",
   "metadata": {},
   "outputs": [
    {
     "data": {
      "text/plain": [
       "4"
      ]
     },
     "execution_count": 74,
     "metadata": {},
     "output_type": "execute_result"
    }
   ],
   "source": [
    "list.argmin()"
   ]
  },
  {
   "cell_type": "code",
   "execution_count": 75,
   "id": "ea554c00",
   "metadata": {},
   "outputs": [
    {
     "data": {
      "text/plain": [
       "11"
      ]
     },
     "execution_count": 75,
     "metadata": {},
     "output_type": "execute_result"
    }
   ],
   "source": [
    "list.argmax()"
   ]
  },
  {
   "cell_type": "code",
   "execution_count": 78,
   "id": "07113111",
   "metadata": {},
   "outputs": [
    {
     "data": {
      "text/plain": [
       "(4, 3)"
      ]
     },
     "execution_count": 78,
     "metadata": {},
     "output_type": "execute_result"
    }
   ],
   "source": [
    "list = list.reshape(4,3)\n",
    "list.shape"
   ]
  },
  {
   "cell_type": "code",
   "execution_count": 89,
   "id": "099185ba",
   "metadata": {},
   "outputs": [
    {
     "data": {
      "text/plain": [
       "array([0, 1, 2, 3, 4, 5, 6, 7, 8, 9])"
      ]
     },
     "execution_count": 89,
     "metadata": {},
     "output_type": "execute_result"
    }
   ],
   "source": [
    "newList = np.arange(0,10)\n",
    "newList"
   ]
  },
  {
   "cell_type": "code",
   "execution_count": 90,
   "id": "16fd91f9",
   "metadata": {},
   "outputs": [
    {
     "data": {
      "text/plain": [
       "array([4, 5, 6, 7])"
      ]
     },
     "execution_count": 90,
     "metadata": {},
     "output_type": "execute_result"
    }
   ],
   "source": [
    "newList[4:8]"
   ]
  },
  {
   "cell_type": "code",
   "execution_count": 91,
   "id": "a32260af",
   "metadata": {},
   "outputs": [
    {
     "data": {
      "text/plain": [
       "array([  0,   1,   2,   3, -10, -10, -10, -10,   8,   9])"
      ]
     },
     "execution_count": 91,
     "metadata": {},
     "output_type": "execute_result"
    }
   ],
   "source": [
    "newList[4:8] = -10\n",
    "newList"
   ]
  },
  {
   "cell_type": "code",
   "execution_count": 92,
   "id": "ae6b9220",
   "metadata": {},
   "outputs": [
    {
     "data": {
      "text/plain": [
       "array([-10000, -10000, -10000, -10000, -10000, -10000, -10000, -10000,\n",
       "       -10000, -10000])"
      ]
     },
     "execution_count": 92,
     "metadata": {},
     "output_type": "execute_result"
    }
   ],
   "source": [
    "slicingList = newList\n",
    "slicingList[:] = -10000 # it was made value -10000 all list elements.\n",
    "slicingList"
   ]
  },
  {
   "cell_type": "code",
   "execution_count": 93,
   "id": "9b74b3b4",
   "metadata": {},
   "outputs": [
    {
     "data": {
      "text/plain": [
       "array([-10000, -10000, -10000, -10000, -10000, -10000, -10000, -10000,\n",
       "       -10000, -10000])"
      ]
     },
     "execution_count": 93,
     "metadata": {},
     "output_type": "execute_result"
    }
   ],
   "source": [
    "newList # but while slicingList was changing newList changed"
   ]
  },
  {
   "cell_type": "code",
   "execution_count": 97,
   "id": "8faec4d5",
   "metadata": {},
   "outputs": [
    {
     "name": "stdout",
     "output_type": "stream",
     "text": [
      "[ 0  1  2  3  4  5  6  7  8  9 10 11 12 13 14 15 16 17 18 19 20 21 22 23]\n"
     ]
    },
    {
     "data": {
      "text/plain": [
       "array([ 0,  1,  2,  3,  4,  5,  6,  7,  8,  9, 10, 11, 12, 13, 14, 15, 16,\n",
       "       17, 18, 19, 20, 21, 22, 23])"
      ]
     },
     "execution_count": 97,
     "metadata": {},
     "output_type": "execute_result"
    }
   ],
   "source": [
    "newList = np.arange(0,24)\n",
    "print(newList)\n",
    "copyNewList = newList.copy() # if we use copy method. this does not happen.\n",
    "copyNewList"
   ]
  },
  {
   "cell_type": "code",
   "execution_count": 98,
   "id": "38f9b76e",
   "metadata": {},
   "outputs": [
    {
     "data": {
      "text/plain": [
       "array([     0,      1,      2,      3,      4,      5, 777777, 777777,\n",
       "       777777, 777777, 777777, 777777, 777777, 777777, 777777, 777777,\n",
       "       777777, 777777, 777777, 777777,     20,     21,     22,     23])"
      ]
     },
     "execution_count": 98,
     "metadata": {},
     "output_type": "execute_result"
    }
   ],
   "source": [
    "copyNewList[6:20] = 777777\n",
    "copyNewList"
   ]
  },
  {
   "cell_type": "code",
   "execution_count": 99,
   "id": "37fb0bcf",
   "metadata": {},
   "outputs": [
    {
     "data": {
      "text/plain": [
       "array([ 0,  1,  2,  3,  4,  5,  6,  7,  8,  9, 10, 11, 12, 13, 14, 15, 16,\n",
       "       17, 18, 19, 20, 21, 22, 23])"
      ]
     },
     "execution_count": 99,
     "metadata": {},
     "output_type": "execute_result"
    }
   ],
   "source": [
    "newList"
   ]
  },
  {
   "cell_type": "code",
   "execution_count": null,
   "id": "6b71e2fb",
   "metadata": {},
   "outputs": [],
   "source": [
    "newList[0]"
   ]
  },
  {
   "cell_type": "code",
   "execution_count": null,
   "id": "0cc3c15a",
   "metadata": {},
   "outputs": [],
   "source": []
  },
  {
   "cell_type": "code",
   "execution_count": null,
   "id": "2ab794f5",
   "metadata": {},
   "outputs": [],
   "source": []
  },
  {
   "cell_type": "code",
   "execution_count": null,
   "id": "b3d5b645",
   "metadata": {},
   "outputs": [],
   "source": []
  },
  {
   "cell_type": "code",
   "execution_count": null,
   "id": "775383fa",
   "metadata": {},
   "outputs": [],
   "source": []
  },
  {
   "cell_type": "code",
   "execution_count": null,
   "id": "08c541f5",
   "metadata": {},
   "outputs": [],
   "source": []
  },
  {
   "cell_type": "code",
   "execution_count": null,
   "id": "c34e9904",
   "metadata": {},
   "outputs": [],
   "source": []
  },
  {
   "cell_type": "code",
   "execution_count": null,
   "id": "9d768b01",
   "metadata": {},
   "outputs": [],
   "source": []
  },
  {
   "cell_type": "code",
   "execution_count": null,
   "id": "2cc283c0",
   "metadata": {},
   "outputs": [],
   "source": []
  },
  {
   "cell_type": "code",
   "execution_count": null,
   "id": "19a2b6ca",
   "metadata": {},
   "outputs": [],
   "source": []
  },
  {
   "cell_type": "code",
   "execution_count": null,
   "id": "9e6736d1",
   "metadata": {},
   "outputs": [],
   "source": []
  },
  {
   "cell_type": "code",
   "execution_count": null,
   "id": "41aaba83",
   "metadata": {},
   "outputs": [],
   "source": []
  },
  {
   "cell_type": "code",
   "execution_count": null,
   "id": "74c6fd95",
   "metadata": {},
   "outputs": [],
   "source": []
  },
  {
   "cell_type": "code",
   "execution_count": null,
   "id": "bc3ff47d",
   "metadata": {},
   "outputs": [],
   "source": []
  },
  {
   "cell_type": "code",
   "execution_count": null,
   "id": "9da6ffaf",
   "metadata": {},
   "outputs": [],
   "source": []
  },
  {
   "cell_type": "code",
   "execution_count": null,
   "id": "ef8fb48e",
   "metadata": {},
   "outputs": [],
   "source": []
  },
  {
   "cell_type": "code",
   "execution_count": null,
   "id": "1d4be9ed",
   "metadata": {},
   "outputs": [],
   "source": []
  },
  {
   "cell_type": "code",
   "execution_count": null,
   "id": "494fa0d4",
   "metadata": {},
   "outputs": [],
   "source": []
  },
  {
   "cell_type": "code",
   "execution_count": null,
   "id": "a2081c91",
   "metadata": {},
   "outputs": [],
   "source": []
  },
  {
   "cell_type": "code",
   "execution_count": null,
   "id": "0df98014",
   "metadata": {},
   "outputs": [],
   "source": []
  },
  {
   "cell_type": "code",
   "execution_count": null,
   "id": "79a1b151",
   "metadata": {},
   "outputs": [],
   "source": []
  },
  {
   "cell_type": "code",
   "execution_count": null,
   "id": "cc4219ac",
   "metadata": {},
   "outputs": [],
   "source": []
  },
  {
   "cell_type": "code",
   "execution_count": null,
   "id": "25e8e1f3",
   "metadata": {},
   "outputs": [],
   "source": []
  },
  {
   "cell_type": "code",
   "execution_count": null,
   "id": "c9526607",
   "metadata": {},
   "outputs": [],
   "source": []
  }
 ],
 "metadata": {
  "kernelspec": {
   "display_name": "Python 3 (ipykernel)",
   "language": "python",
   "name": "python3"
  },
  "language_info": {
   "codemirror_mode": {
    "name": "ipython",
    "version": 3
   },
   "file_extension": ".py",
   "mimetype": "text/x-python",
   "name": "python",
   "nbconvert_exporter": "python",
   "pygments_lexer": "ipython3",
   "version": "3.9.13"
  }
 },
 "nbformat": 4,
 "nbformat_minor": 5
}
