{
 "cells": [
  {
   "cell_type": "code",
   "execution_count": 4,
   "id": "8e2cf121",
   "metadata": {},
   "outputs": [
    {
     "data": {
      "text/plain": [
       "[1, 2, 3, 4, 5, 6, 7, 8, 9, 10]"
      ]
     },
     "execution_count": 4,
     "metadata": {},
     "output_type": "execute_result"
    }
   ],
   "source": [
    "list = [i for i in range(1,11)]\n",
    "list"
   ]
  },
  {
   "cell_type": "code",
   "execution_count": 8,
   "id": "158ac6d7",
   "metadata": {},
   "outputs": [
    {
     "data": {
      "text/plain": [
       "[4, 5, 6, 7, 8, 9, 10]"
      ]
     },
     "execution_count": 8,
     "metadata": {},
     "output_type": "execute_result"
    }
   ],
   "source": [
    "list[3:]"
   ]
  },
  {
   "cell_type": "code",
   "execution_count": 10,
   "id": "eb311b68",
   "metadata": {},
   "outputs": [
    {
     "data": {
      "text/plain": [
       "[1, 2, 3]"
      ]
     },
     "execution_count": 10,
     "metadata": {},
     "output_type": "execute_result"
    }
   ],
   "source": [
    "list[:3]"
   ]
  },
  {
   "cell_type": "code",
   "execution_count": 12,
   "id": "6b1bcb4c",
   "metadata": {},
   "outputs": [
    {
     "data": {
      "text/plain": [
       "[4, 5, 6, 7, 8]"
      ]
     },
     "execution_count": 12,
     "metadata": {},
     "output_type": "execute_result"
    }
   ],
   "source": [
    "list[3:8]"
   ]
  },
  {
   "cell_type": "code",
   "execution_count": 15,
   "id": "d4271819",
   "metadata": {},
   "outputs": [
    {
     "data": {
      "text/plain": [
       "[9, 10]"
      ]
     },
     "execution_count": 15,
     "metadata": {},
     "output_type": "execute_result"
    }
   ],
   "source": [
    "list[-2:]"
   ]
  },
  {
   "cell_type": "code",
   "execution_count": 18,
   "id": "e47eeb87",
   "metadata": {},
   "outputs": [
    {
     "data": {
      "text/plain": [
       "[1, 2, 3, 4, 5, 6, 7, 8]"
      ]
     },
     "execution_count": 18,
     "metadata": {},
     "output_type": "execute_result"
    }
   ],
   "source": [
    "list[:-2]"
   ]
  },
  {
   "cell_type": "code",
   "execution_count": 20,
   "id": "7462b846",
   "metadata": {},
   "outputs": [
    {
     "data": {
      "text/plain": [
       "[[1, 2, 3, 4], [1, 2, 3, 4], [1, 2, 3, 4], [1, 2, 3, 4]]"
      ]
     },
     "execution_count": 20,
     "metadata": {},
     "output_type": "execute_result"
    }
   ],
   "source": [
    "generator = [x for x in range(1,5)]\n",
    "matrix = [generator for e in range(1,5)]\n",
    "matrix"
   ]
  },
  {
   "cell_type": "code",
   "execution_count": 95,
   "id": "d09b08bf",
   "metadata": {},
   "outputs": [
    {
     "data": {
      "text/plain": [
       "[[3, 7, 7],\n",
       " [6, 4, 12],\n",
       " [8, 9, 13],\n",
       " [14, 4, 7],\n",
       " [0, 8, 8],\n",
       " [13, 4, 11],\n",
       " [6, 12, 13],\n",
       " [3, 0, 9],\n",
       " [7, 10, 13]]"
      ]
     },
     "execution_count": 95,
     "metadata": {},
     "output_type": "execute_result"
    }
   ],
   "source": [
    "# matrix generator\n",
    "import random as rnd\n",
    "\n",
    "def rowGenerator(length):\n",
    "    rowList = []\n",
    "    for x in range(length):\n",
    "        rand = rnd.randrange(0,15)\n",
    "        rowList.append(rand)\n",
    "    return rowList\n",
    "\n",
    "def generator(row,column):\n",
    "    rowList = []\n",
    "    matrix = []\n",
    "    for x in range(row):\n",
    "        for i in range(column):\n",
    "            rowList = rowGenerator(row)\n",
    "            matrix.append(rowList)\n",
    "    return matrix\n",
    "\n",
    "matrix = generator(3,3)\n",
    "matrix"
   ]
  },
  {
   "cell_type": "code",
   "execution_count": 101,
   "id": "e660156c",
   "metadata": {},
   "outputs": [
    {
     "data": {
      "text/plain": [
       "array([ 5, 10, 15, 20])"
      ]
     },
     "execution_count": 101,
     "metadata": {},
     "output_type": "execute_result"
    }
   ],
   "source": [
    "import numpy as np\n",
    "np.arange(5,21,5)"
   ]
  },
  {
   "cell_type": "code",
   "execution_count": 103,
   "id": "08efe8d8",
   "metadata": {
    "scrolled": true
   },
   "outputs": [
    {
     "data": {
      "text/plain": [
       "array([[ 3,  7,  7],\n",
       "       [ 6,  4, 12],\n",
       "       [ 8,  9, 13],\n",
       "       [14,  4,  7],\n",
       "       [ 0,  8,  8],\n",
       "       [13,  4, 11],\n",
       "       [ 6, 12, 13],\n",
       "       [ 3,  0,  9],\n",
       "       [ 7, 10, 13]])"
      ]
     },
     "execution_count": 103,
     "metadata": {},
     "output_type": "execute_result"
    }
   ],
   "source": [
    "np.array(matrix)"
   ]
  },
  {
   "cell_type": "code",
   "execution_count": 109,
   "id": "40948179",
   "metadata": {
    "scrolled": true
   },
   "outputs": [
    {
     "data": {
      "text/plain": [
       "array([ 1.,  4.,  7., 10.])"
      ]
     },
     "execution_count": 109,
     "metadata": {},
     "output_type": "execute_result"
    }
   ],
   "source": [
    "np.linspace(1,10,4)"
   ]
  },
  {
   "cell_type": "code",
   "execution_count": 115,
   "id": "3d6e71db",
   "metadata": {},
   "outputs": [
    {
     "data": {
      "text/plain": [
       "array([[ 0.86166636, -0.5350937 , -0.47082072],\n",
       "       [-0.22380547,  1.47483989,  0.11464786],\n",
       "       [ 0.32687406, -1.09254627, -1.06183151]])"
      ]
     },
     "execution_count": 115,
     "metadata": {},
     "output_type": "execute_result"
    }
   ],
   "source": [
    "np.random.randn(3,3)"
   ]
  },
  {
   "cell_type": "code",
   "execution_count": null,
   "id": "57a4f583",
   "metadata": {},
   "outputs": [],
   "source": []
  }
 ],
 "metadata": {
  "kernelspec": {
   "display_name": "Python 3 (ipykernel)",
   "language": "python",
   "name": "python3"
  },
  "language_info": {
   "codemirror_mode": {
    "name": "ipython",
    "version": 3
   },
   "file_extension": ".py",
   "mimetype": "text/x-python",
   "name": "python",
   "nbconvert_exporter": "python",
   "pygments_lexer": "ipython3",
   "version": "3.9.13"
  }
 },
 "nbformat": 4,
 "nbformat_minor": 5
}
